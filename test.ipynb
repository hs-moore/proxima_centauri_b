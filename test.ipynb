{
 "cells": [
  {
   "cell_type": "code",
   "execution_count": 1,
   "metadata": {},
   "outputs": [],
   "source": [
    "import numpy as np\n",
    "import matplotlib.pyplot as plt"
   ]
  },
  {
   "cell_type": "markdown",
   "metadata": {},
   "source": [
    "TOA WK97"
   ]
  },
  {
   "cell_type": "code",
   "execution_count": 2,
   "metadata": {},
   "outputs": [],
   "source": [
    "def get_albedo(tij):\n",
    "    a = 0.525 - 0.245*np.tanh((tij - 268)/5)\n",
    "    if a > 0.77:\n",
    "        a = 0.77\n",
    "    elif a < 0.28:\n",
    "        a = 0.28\n",
    "    return a"
   ]
  },
  {
   "cell_type": "code",
   "execution_count": 3,
   "metadata": {},
   "outputs": [],
   "source": [
    "def get_toa(tij, lon):\n",
    "\n",
    "    u = np.cos(lon)\n",
    "    p = 1 * 300 * 10**(-6)\n",
    "    a = get_albedo(tij)\n",
    "\n",
    "    if tij < 280:\n",
    "        toa = -0.6891 + 1.0468*a + 0.007845*tij -0.0028373*p -0.28899*u\n",
    "        toa += -0.037412*a*p - 0.0063499*u*p + 0.20122*a*u\n",
    "        toa += -0.0018508*a*tij + 0.00013649*u*tij + 9.8581e-5*p*tij\n",
    "        toa += 0.073239*a**2 - 1.6555e-5*tij**2 + 6.5817e-4*p**2 + 0.081218*u**2\n",
    "\n",
    "    else:\n",
    "        toa = 1.1082 + 1.5172*a - 5.7993e-3*tij +0.019705*p - 0.1867*u\n",
    "        toa += -0.031355*a*u - 0.010214*u*p + 0.20986*a*u\n",
    "        toa += -3.7098e-3*a*tij -1.1335e-4*u*tij +5.3714e-5*p*tij \n",
    "        toa += 0.075887*a**2 +9.269e-6*tij**2 - 4.1327e-4*p**2 + 0.063298*u**2\n",
    "\n",
    "    return toa"
   ]
  },
  {
   "cell_type": "code",
   "execution_count": 4,
   "metadata": {},
   "outputs": [
    {
     "data": {
      "image/png": "[encoded data removed]",
      "text/plain": [
       "<Figure size 640x480 with 1 Axes>"
      ]
     },
     "metadata": {},
     "output_type": "display_data"
    }
   ],
   "source": [
    "temperature = np.arange(start=50, stop = 450, step = 25)\n",
    "lon = 0\n",
    "\n",
    "surface, top = [], []\n",
    "for t in temperature:\n",
    "    surface.append(get_albedo(t))\n",
    "    top.append(get_toa(t, lon))\n",
    "\n",
    "plt.plot(surface, temperature)\n",
    "plt.plot(top, temperature)\n",
    "plt.show()"
   ]
  },
  {
   "cell_type": "markdown",
   "metadata": {},
   "source": [
    "R24"
   ]
  },
  {
   "cell_type": "code",
   "execution_count": 40,
   "metadata": {},
   "outputs": [],
   "source": [
    "def diff(p, m0, t_avg):\n",
    "    d = 0.02 * p * (m0/29)**2 * 11.1868**(-1) * (t_avg/288)**12\n",
    "    return d"
   ]
  },
  {
   "cell_type": "code",
   "execution_count": 46,
   "metadata": {},
   "outputs": [
    {
     "data": {
      "text/plain": [
       "(1.340461425659355e-12, 6.375559693980286e-15, 3.085770891886458e-12)"
      ]
     },
     "execution_count": 46,
     "metadata": {},
     "output_type": "execute_result"
    }
   ],
   "source": [
    "d1 = diff(1, 29, 50)\n",
    "d2 = diff(1, 2, 50)\n",
    "d3 = diff(1, 44, 50)\n",
    "d1, d2, d3"
   ]
  },
  {
   "cell_type": "code",
   "execution_count": 12,
   "metadata": {},
   "outputs": [],
   "source": [
    "c_land = 5.25e6\n",
    "c_ocean = 40*c_land\n",
    "def get_cheat(tij, f_ocean):\n",
    "    if tij < 273:\n",
    "        f_ice = 1 - np.exp((tij-273)/10)\n",
    "        if tij > 263:\n",
    "            c_ice = 9.2*c_land\n",
    "        else:\n",
    "            c_ice = 2*c_land\n",
    "    else:\n",
    "        f_ice = 0\n",
    "        c_ice = 0\n",
    "    c = (1-f_ocean)*c_land + f_ocean*((1-f_ice)*c_ocean + f_ice*c_ice)\n",
    "    return c"
   ]
  },
  {
   "cell_type": "code",
   "execution_count": 36,
   "metadata": {},
   "outputs": [],
   "source": [
    "def clouds(t, pd, pv):\n",
    "    fe = 90\n",
    "    rho = pd*1e6/(287*t) + pv+1e6/(461.5)\n",
    "    rho = rho\n",
    "    print(rho)\n",
    "    fs = 1e3 * rho * 1.5e-3 * 10 * 7e-3\n",
    "    fl = (1-0.77)*5.9e5 * 1.5e-3 * 10 * rho * 0.0155\n",
    "    fc = fs + fl\n",
    "    print(fs, fl, fc)\n",
    "\n",
    "    c = min(0.75*np.log10(fc/fe + 1), 1)\n",
    "    cir = min(-7*np.log10(fc/fe+1), -10)\n",
    "    cp = max(0.5878*np.log(t)-2.9532, 0.3)\n",
    "    calb = min(cp*np.log10(fc/fe + 1), 1)\n",
    "    \n",
    "    return c, cir, calb"
   ]
  },
  {
   "cell_type": "code",
   "execution_count": 37,
   "metadata": {},
   "outputs": [
    {
     "name": "stdout",
     "output_type": "stream",
     "text": [
      "2181.5650347402106\n",
      "229.0643286477221 68828.92223731233 69057.98656596006\n"
     ]
    },
    {
     "data": {
      "text/plain": [
       "(1, -20.198759206572532, 0.870408054323607)"
      ]
     },
     "execution_count": 37,
     "metadata": {},
     "output_type": "execute_result"
    }
   ],
   "source": [
    "t = 254\n",
    "a = get_albedo(t)\n",
    "c, cir, calb = clouds(t, 1, 1)\n",
    "c, cir, calb"
   ]
  },
  {
   "cell_type": "code",
   "execution_count": 38,
   "metadata": {},
   "outputs": [
    {
     "data": {
      "text/plain": [
       "2.6868569570362606"
      ]
     },
     "execution_count": 38,
     "metadata": {},
     "output_type": "execute_result"
    }
   ],
   "source": [
    "f = np.exp((17*(288-273))/(288-273 + 243))\n",
    "f"
   ]
  },
  {
   "cell_type": "code",
   "execution_count": null,
   "metadata": {},
   "outputs": [],
   "source": []
  }
 ],
 "metadata": {
  "kernelspec": {
   "display_name": "Python 3",
   "language": "python",
   "name": "python3"
  },
  "language_info": {
   "codemirror_mode": {
    "name": "ipython",
    "version": 3
   },
   "file_extension": ".py",
   "mimetype": "text/x-python",
   "name": "python",
   "nbconvert_exporter": "python",
   "pygments_lexer": "ipython3",
   "version": "3.12.9"
  }
 },
 "nbformat": 4,
 "nbformat_minor": 2
}
