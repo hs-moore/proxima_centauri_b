{
 "cells": [
  {
   "cell_type": "markdown",
   "metadata": {},
   "source": [
    "Constants"
   ]
  },
  {
   "cell_type": "code",
   "execution_count": 3,
   "metadata": {},
   "outputs": [],
   "source": [
    "import numpy as np\n",
    "import matplotlib.pyplot as plt"
   ]
  },
  {
   "cell_type": "code",
   "execution_count": 4,
   "metadata": {},
   "outputs": [],
   "source": [
    "sep = 0.04856*1.5e11\n",
    "ndof = 5\n",
    "sb_const = 5.67e-8\n",
    "gas_const = 8314\n",
    "kb_const = 1.38e-23\n",
    "m_H = 1.67e-27\n",
    "T_star = 2900\n",
    "R_star = 0.141*695700e3\n",
    "M_star = 0.1221*1.99e30\n",
    "m_p = 1.07*5.972e24#10*5.972e24# #lower/upper bound\n",
    "r_p = 1*6371e3 #assumed value\n",
    "G_const = 6.67e-11\n",
    "\n",
    "grav = (G_const * m_p)/(r_p**2)\n",
    "density = (3 * m_p)/(4*np.pi*r_p**3)"
   ]
  },
  {
   "cell_type": "code",
   "execution_count": 4,
   "metadata": {},
   "outputs": [],
   "source": [
    "bond_a = 0.306 #bond abledo of earth\n",
    "mu = 28.97 # nitrogen"
   ]
  },
  {
   "cell_type": "markdown",
   "metadata": {},
   "source": [
    "2.1 stellar irradiation and orbital parameters"
   ]
  },
  {
   "cell_type": "code",
   "execution_count": 5,
   "metadata": {},
   "outputs": [],
   "source": [
    "T_irr = T_star*(R_star/sep)**(1/2)*(1-bond_a)**(1/4)\n",
    "flux = sb_const*T_irr**4 # at substellar point\n",
    "rot_freq = (G_const*M_star/sep**3)*(1/2)"
   ]
  },
  {
   "cell_type": "markdown",
   "metadata": {},
   "source": [
    "2.2 thermodynamics"
   ]
  },
  {
   "cell_type": "code",
   "execution_count": 6,
   "metadata": {},
   "outputs": [],
   "source": [
    "T_arr = np.arange(start = 50, stop = 500, step = 50)\n",
    "p_arr = [0.001, 0.01, 0.1, 1, 10]\n",
    "\n",
    "#values for nitrogen:\n",
    "L_avg = 2.3e5\n",
    "T_con0 = 775\n",
    "T_crit = 126.2\n",
    "p_sat0 = 2.7e4\n",
    "p_crit = 34\n",
    "#atmosphere will be gaseous as long as T>T_crit and P<P_crit"
   ]
  },
  {
   "cell_type": "code",
   "execution_count": 7,
   "metadata": {},
   "outputs": [
    {
     "name": "stdout",
     "output_type": "stream",
     "text": [
      "350.23359768922785\n",
      "286.9865377977218\n"
     ]
    },
    {
     "data": {
      "text/plain": [
       "[45.29158229318774,\n",
       " 52.33388062275679,\n",
       " 61.96937603333906,\n",
       " 75.95364348042823,\n",
       " 98.0887619641557]"
      ]
     },
     "execution_count": 7,
     "metadata": {},
     "output_type": "execute_result"
    }
   ],
   "source": [
    "m = mu * m_H\n",
    "gamma = 1 + 2/ndof\n",
    "ad_coeff = 2/(2+ndof)\n",
    "cs = ((gamma*kb_const*T_irr)/m)**(1/2)\n",
    "cp = ((2+ndof)*gas_const)/(2*mu)\n",
    "R_const = gas_const/mu\n",
    "\n",
    "print(cs)\n",
    "\n",
    "print(R_const) # should be roughly 287 for nitrogen\n",
    "\n",
    "p_sat = [p_sat0 * np.exp(-1*T_con0/t) for t in T_arr]\n",
    "\n",
    "T_con = [T_con0/np.log(p_sat0/p) for p in p_arr]\n",
    "T_con"
   ]
  },
  {
   "cell_type": "markdown",
   "metadata": {},
   "source": [
    "2.3 infrared photospheric pressure\n",
    "\n",
    "- assume a thin atmosphere\n",
    "- model atmospheres as consisting purely of molecular nitrogen but assume they contain minor amounts of other chemical species which absorb strongly in the infrared\n",
    "- the radiative timescale is assumed to be approximately  constant throughout\n",
    "- regard p as a free parameter which characterises the thickness of the atmosphere\n",
    "- neglect any effects associated with clouds or hazes (see Heng et al 2012)"
   ]
  },
  {
   "cell_type": "markdown",
   "metadata": {},
   "source": [
    "2.4 hydrodynamic shallow water model"
   ]
  },
  {
   "cell_type": "code",
   "execution_count": 8,
   "metadata": {},
   "outputs": [
    {
     "data": {
      "text/plain": [
       "[0.05821192284588338,\n",
       " 0.5821192284588339,\n",
       " 5.821192284588339,\n",
       " 58.211922845883386,\n",
       " 582.1192284588338]"
      ]
     },
     "execution_count": 8,
     "metadata": {},
     "output_type": "execute_result"
    }
   ],
   "source": [
    "scale_height = (kb_const*T_irr)/(m*grav)\n",
    "beta = 2*rot_freq/R_const\n",
    "t0 = (grav*scale_height)**(-1/4) * beta**(-1/2)\n",
    "s0 = scale_height/t0\n",
    "\n",
    "t_rad = [(cp*p)/(sb_const*grav*T_irr**3) for p in p_arr]\n",
    "t_drag = 2*np.pi/rot_freq\n",
    "t_rad"
   ]
  },
  {
   "cell_type": "markdown",
   "metadata": {},
   "source": [
    "2.5 basic trends with strength of stellar irradiation"
   ]
  },
  {
   "cell_type": "code",
   "execution_count": 5,
   "metadata": {},
   "outputs": [
    {
     "data": {
      "text/plain": [
       "6371.0"
      ]
     },
     "execution_count": 5,
     "metadata": {},
     "output_type": "execute_result"
    }
   ],
   "source": [
    "u_max = 1e3 # predict ~ 1-2km s-1 zonal flows\n",
    "t_adv = r_p/u_max\n",
    "t_adv"
   ]
  },
  {
   "cell_type": "markdown",
   "metadata": {},
   "source": [
    "2.6 inefficiency of thermal conduction"
   ]
  },
  {
   "cell_type": "code",
   "execution_count": 10,
   "metadata": {},
   "outputs": [
    {
     "name": "stdout",
     "output_type": "stream",
     "text": [
      "485864.5379298987 207784260.04384068\n"
     ]
    },
    {
     "data": {
      "text/plain": [
       "(85019.48541470546, 310.68347640725835)"
      ]
     },
     "execution_count": 10,
     "metadata": {},
     "output_type": "execute_result"
    }
   ],
   "source": [
    "k_cond = 10**10\n",
    "cp0 = 10**7\n",
    "alpha0 = k_cond/(density*cp0) # thermal diffusivity of the material of the rocky core\n",
    "sep_const = 1/R_const**2\n",
    "\n",
    "t_cond = (density*cp0*R_const**2)/k_cond\n",
    "t_cond2 = 4e7 * (density/3e6) * (r_p/695700e3)**2 # years\n",
    "t_cond2 = t_cond2 * 3.15e7\n",
    "print(t_cond, t_cond2)\n",
    "\n",
    "#demanding that t_rad < t_cond yeilds\n",
    "temp = (k_cond/(sb_const*R_const))**(1/3) #temp > ...\n",
    "temp2 = 65 * (r_p/695700e3)**(-1/3)\n",
    "temp, temp2"
   ]
  },
  {
   "cell_type": "markdown",
   "metadata": {},
   "source": [
    "3.1 conditions related to advection and radiation"
   ]
  },
  {
   "cell_type": "code",
   "execution_count": 11,
   "metadata": {},
   "outputs": [
    {
     "name": "stdout",
     "output_type": "stream",
     "text": [
      "[58.21192284588337, 582.1192284588338, 5821.192284588338, 58211.922845883375, 582119.2284588339]\n",
      "[20.387771166721492, 203.87771166721492, 2038.7771166721495, 20387.771166721494, 203877.71166721496]\n",
      "[11396.950912554752, 36040.32326480752, 113969.50912554751, 360403.2326480752, 1139695.0912554753]\n"
     ]
    }
   ],
   "source": [
    "# condition t_adv < t_rad:\n",
    "rp_less = [((cp*u_max*p)/(sb_const*grav)) * T_star**(-3) * R_star**(-3/2) * (1-bond_a)**(-3/4) * sep**(3/2) for p in p_arr]\n",
    "print(rp_less)\n",
    "\n",
    "rp_less3 = [((cp*cs*p)/(sb_const*grav)) * T_star**(-3) * R_star**(-3/2) * (1-bond_a)**(-3/4) * sep**(3/2) for p in p_arr]\n",
    "print(rp_less3)\n",
    "\n",
    "rp_less2 = [(gamma*kb_const/m)**(1/4) * ((3*cp*p)/(4*np.pi*G_const*density*sb_const))**(1/2) * T_star**(-5/4) * R_star**(-5/8) * (1-bond_a)**(-5/16) * sep**(5/8) for p in p_arr]\n",
    "print(rp_less2)"
   ]
  },
  {
   "cell_type": "markdown",
   "metadata": {},
   "source": [
    "3.2 conditions related to thermodynamics of phase change"
   ]
  },
  {
   "cell_type": "code",
   "execution_count": 12,
   "metadata": {},
   "outputs": [
    {
     "name": "stdout",
     "output_type": "stream",
     "text": [
      "1.1167619430232272\n"
     ]
    }
   ],
   "source": [
    "T_eq = T_irr/np.sqrt(2)\n",
    "\n",
    "a_con = [(R_star/2) * (T_star/T_con0)**2 * (1-bond_a)**0.5 * (np.log(p_sat0/p))**2 for p in p_arr]\n",
    "a_crit = (R_star/2) * (T_star/T_crit)**2 * (1-bond_a)**0.5\n",
    "\n",
    "a_con.append(a_crit)\n",
    "print(np.max(a_con)/1.5e11) #sep needs to be less than this"
   ]
  },
  {
   "cell_type": "markdown",
   "metadata": {},
   "source": [
    "3.3 conditions related to orbital circularisation and spin synchronisation\n",
    "\n",
    "requires knowledge of the age of the star"
   ]
  },
  {
   "cell_type": "markdown",
   "metadata": {},
   "source": [
    "3.4 other conditions"
   ]
  },
  {
   "cell_type": "code",
   "execution_count": 27,
   "metadata": {},
   "outputs": [],
   "source": [
    "#radius less than hill sphere\n",
    "rh = sep*(m_p/(3*M_star))**(1/3)\n",
    "#which implies\n",
    "a_h = ((9*M_star)/(4*np.pi*density))**(1/3) #sep greater than\n",
    "\n",
    "#thermal speed (cs) less than escape velocity\n",
    "v_esc = ((2*G_const*m_p)/r_p)**(1/2)\n",
    "#which implies\n",
    "a_list = [0.025, 0.05, 0.075, 0.1]\n",
    "a_list = [a*1.5e11 for a in a_list]\n",
    "R_esc = [((3*gamma*kb_const)/(8*np.pi*G_const*density*m))**(2/3) * T_star**(2/3) * (1-bond_a)**(1/6) * a**(-1/3) for a in a_list]\n",
    "# r greater than this"
   ]
  },
  {
   "cell_type": "code",
   "execution_count": 14,
   "metadata": {},
   "outputs": [
    {
     "data": {
      "text/plain": [
       "(0.031541082414772735, 0.07267365539654731)"
      ]
     },
     "execution_count": 14,
     "metadata": {},
     "output_type": "execute_result"
    }
   ],
   "source": [
    "#habitable zone\n",
    "a1 = 0.84\n",
    "a2 = 2.7619e-5\n",
    "a3 = 3.8095e-9\n",
    "a4 = 1.67\n",
    "a5 = 1.3786e-4\n",
    "a6 = 1.4286e-9\n",
    "\n",
    "T_bar = T_star - 5700\n",
    "L_star = 4*np.pi*(R_star**2)*sb_const*(T_star**4)\n",
    "L_sol = 3.839e26\n",
    "\n",
    "a_in = (a1 - a2*T_bar - a3*T_bar**2) * (L_star/L_sol)**0.5\n",
    "a_out = (a4 - a5*T_bar - a6*T_bar**2) * (L_star/L_sol)**0.5\n",
    "\n",
    "a_in, a_out"
   ]
  },
  {
   "cell_type": "markdown",
   "metadata": {},
   "source": [
    "3.5 stability diagram"
   ]
  },
  {
   "cell_type": "code",
   "execution_count": 31,
   "metadata": {},
   "outputs": [
    {
     "data": {
      "image/png": "[encoded data removed]",
      "text/plain": [
       "<Figure size 640x480 with 1 Axes>"
      ]
     },
     "metadata": {},
     "output_type": "display_data"
    }
   ],
   "source": [
    "plt.plot([0.04856, 0.04856], [0.01, 10], color='black', ls='dashed') #actual sep\n",
    "\n",
    "plt.plot([a_in, a_in], [0.01, 10], color='blue') # between\n",
    "plt.plot([a_out, a_out], [0.01, 10], color='blue')\n",
    "\n",
    "plt.plot([a_con[2]/1.5e11, a_con[2]/1.5e11], [0.01, 10], color='red') # less than\n",
    "plt.plot([a_h/1.5e11, a_h/1.5e11], [0.01, 10], color='magenta') # greater than\n",
    "\n",
    "#plt.plot(a_list, R_esc, color='green')\n",
    "\n",
    "plt.yscale('log')\n",
    "plt.ylabel('R (R_earth)')\n",
    "plt.xlabel('sep (AU)')\n",
    "plt.xlim(0,0.1)\n",
    "plt.title('A = 0.306, P = 0.1 bar, N2 atm')\n",
    "plt.show()"
   ]
  },
  {
   "cell_type": "markdown",
   "metadata": {},
   "source": [
    "3.6 stability diagrams applied"
   ]
  },
  {
   "cell_type": "code",
   "execution_count": 20,
   "metadata": {},
   "outputs": [
    {
     "data": {
      "image/png": "[encoded data removed]",
      "text/plain": [
       "<Figure size 640x480 with 1 Axes>"
      ]
     },
     "metadata": {},
     "output_type": "display_data"
    }
   ],
   "source": [
    "b_albedos = [0, 0.5, 0.9]\n",
    "\n",
    "for b in b_albedos:\n",
    "    lim_arr = []\n",
    "    for p in p_arr:\n",
    "        lim = ((2+ndof)*gas_const*u_max*p)/(2*sb_const*grav*r_p)\n",
    "        lim = lim * T_star**(-3) * R_star**(-3/2) * (1-b)**(-3/4) * sep**(3/2)\n",
    "        lim_arr.append(lim)\n",
    "\n",
    "    plt.plot(lim_arr, p_arr)\n",
    "\n",
    "plt.xscale('log')\n",
    "plt.ylim(1)\n",
    "plt.xlim(0.1)\n",
    "plt.show()"
   ]
  }
 ],
 "metadata": {
  "kernelspec": {
   "display_name": "Python 3",
   "language": "python",
   "name": "python3"
  },
  "language_info": {
   "codemirror_mode": {
    "name": "ipython",
    "version": 3
   },
   "file_extension": ".py",
   "mimetype": "text/x-python",
   "name": "python",
   "nbconvert_exporter": "python",
   "pygments_lexer": "ipython3",
   "version": "3.12.9"
  }
 },
 "nbformat": 4,
 "nbformat_minor": 2
}
